{
 "cells": [
  {
   "metadata": {},
   "cell_type": "code",
   "outputs": [],
   "execution_count": null,
   "source": [
    "import pandas as pd\n",
    "\n",
    "# Load your dataset\n",
    "df = pd.read_csv(r\"C:/Users/linda/Desktop/labeled_textblob.csv\")\n",
    "\n",
    "# Ensure 'date' is datetime and drop missing values\n",
    "df['date'] = pd.to_datetime(df['date'], errors='coerce')\n",
    "df = df.dropna(subset=['date', 'from', 'sentiment'])\n",
    "\n",
    "# Map sentiment to scores\n",
    "sentiment_score_map = {\n",
    "    'Positive': 1,\n",
    "    'Neutral': 0,\n",
    "    'Negative': -1\n",
    "}\n",
    "df['score'] = df['sentiment'].map(sentiment_score_map)\n",
    "\n",
    "# Create a 'month' column from the date\n",
    "df['month'] = df['date'].dt.to_period('M')\n",
    "\n",
    "# Group by employee ('from') and month, then sum the scores\n",
    "monthly_scores = df.groupby(['from', 'month'])['score'].sum().reset_index()\n",
    "\n",
    "# Rename columns for clarity\n",
    "monthly_scores.columns = ['employee', 'month', 'monthly_sentiment_score']\n",
    "\n",
    "# Display result\n",
    "print(monthly_scores.head())\n",
    "\n",
    "# Save to CSV\n",
    "monthly_scores.to_csv('monthly_sentiment_scores.csv', index=False)\n"
   ],
   "id": "dba130ed160fdd46"
  }
 ],
 "metadata": {},
 "nbformat": 5,
 "nbformat_minor": 9
}
