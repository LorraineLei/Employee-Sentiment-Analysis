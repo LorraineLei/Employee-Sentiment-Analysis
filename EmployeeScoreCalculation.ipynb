{
 "cells": [
  {
   "metadata": {},
   "cell_type": "code",
   "outputs": [],
   "execution_count": null,
   "source": [
    "import pandas as pd\n",
    "\n",
    "# Load dataset\n",
    "df = pd.read_csv(r\"C:\\Users\\linda\\Desktop\\labeled_VADER_with_polarity.csv\")\n",
    "\n",
    "# Ensure 'date' is datetime and drop missing values (no missing data from task 2)\n",
    "df['date'] = pd.to_datetime(df['date'], errors='coerce')\n",
    "df = df.dropna(subset=['date', 'from', 'sentiment'])\n",
    "\n",
    "# Map sentiment to scores\n",
    "sentiment_score_map = {\n",
    "    'Positive': 1,\n",
    "    'Neutral': 0,\n",
    "    'Negative': -1\n",
    "}\n",
    "df['score'] = df['sentiment'].map(sentiment_score_map)\n",
    "\n",
    "# Create a 'month' column from the date\n",
    "df['month'] = df['date'].dt.to_period('M')\n",
    "\n",
    "# Group by employee ('from') and month, then sum the scores\n",
    "monthly_scores = df.groupby(['from', 'month'])['score'].sum().reset_index()\n",
    "\n",
    "# Rename columns for clarity\n",
    "monthly_scores.columns = ['employee', 'month', 'monthly_sentiment_score']\n",
    "\n",
    "# Display result\n",
    "print(monthly_scores.head())\n",
    "\n",
    "# Save to CSV\n",
    "monthly_scores.to_csv('monthly_sentiment_scores.csv', index=False)\n"
   ],
   "id": "bd84bf5db903ea8e"
  }
 ],
 "metadata": {},
 "nbformat": 5,
 "nbformat_minor": 9
}
