{
 "cells": [
  {
   "metadata": {},
   "cell_type": "code",
   "outputs": [],
   "execution_count": null,
   "source": [
    "import pandas as pd\n",
    "from textblob import TextBlob\n",
    "\n",
    "# Load your CSV\n",
    "df = pd.read_csv(r\"C:\\Users\\linda\\Desktop\\labeled_textblob.csv\")\n",
    "\n",
    "# Combine subject and body\n",
    "df['message'] = df['Subject'].fillna('') + \" \" + df['body'].fillna('')\n",
    "\n",
    "# Define function to get sentiment\n",
    "def get_sentiment(text):\n",
    "    polarity = TextBlob(text).sentiment.polarity\n",
    "    if polarity > 0.1:\n",
    "        return 'Positive'\n",
    "    elif polarity < -0.1:\n",
    "        return 'Negative'\n",
    "    else:\n",
    "        return 'Neutral'\n",
    "\n",
    "# Apply to messages\n",
    "df['sentiment'] = df['message'].apply(get_sentiment)\n",
    "\n",
    "# Save results\n",
    "df.to_csv('labeled_textblob.csv', index=False)\n",
    "print(df[['Subject', 'sentiment']].head())\n"
   ],
   "id": "3d144518bcd64710"
  }
 ],
 "metadata": {},
 "nbformat": 5,
 "nbformat_minor": 9
}
